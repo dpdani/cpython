{
 "cells": [
  {
   "cell_type": "code",
   "execution_count": 12,
   "id": "initial_id",
   "metadata": {
    "collapsed": true,
    "ExecuteTime": {
     "end_time": "2023-08-29T12:15:20.815271908Z",
     "start_time": "2023-08-29T12:15:20.766929532Z"
    }
   },
   "outputs": [],
   "source": [
    "import humanize\n",
    "import pandas as pd\n",
    "from pathlib import Path"
   ]
  },
  {
   "cell_type": "code",
   "execution_count": 13,
   "outputs": [],
   "source": [
    "collected = [\n",
    "    pd.read_csv(csv).rename(columns=lambda _: _.strip())\n",
    "    for csv in sorted(Path('dict-metrics').glob('*.csv'))\n",
    "]"
   ],
   "metadata": {
    "collapsed": false,
    "ExecuteTime": {
     "end_time": "2023-08-29T12:15:25.246707546Z",
     "start_time": "2023-08-29T12:15:20.815100363Z"
    }
   },
   "id": "64b2af805bfa9958"
  },
  {
   "cell_type": "code",
   "execution_count": 14,
   "outputs": [
    {
     "data": {
      "text/plain": "         usage count    total time        extra 1        extra 2     extra 3\ncount     164.000000  1.640000e+02     164.000000     164.000000  164.000000\nmean     6999.975610  6.918620e+05    1907.414634    2568.060976    5.018293\nstd     32837.598097  2.043899e+06   13181.706649   16284.980741   64.265503\nmin         0.000000  0.000000e+00       0.000000       0.000000    0.000000\n25%         0.000000  0.000000e+00       0.000000       0.000000    0.000000\n50%        65.500000  1.431450e+04       0.000000       0.000000    0.000000\n75%       964.000000  2.815492e+05       0.000000       0.000000    0.000000\nmax    305023.000000  1.670231e+07  156977.000000  148046.000000  823.000000",
      "text/html": "<div>\n<style scoped>\n    .dataframe tbody tr th:only-of-type {\n        vertical-align: middle;\n    }\n\n    .dataframe tbody tr th {\n        vertical-align: top;\n    }\n\n    .dataframe thead th {\n        text-align: right;\n    }\n</style>\n<table border=\"1\" class=\"dataframe\">\n  <thead>\n    <tr style=\"text-align: right;\">\n      <th></th>\n      <th>usage count</th>\n      <th>total time</th>\n      <th>extra 1</th>\n      <th>extra 2</th>\n      <th>extra 3</th>\n    </tr>\n  </thead>\n  <tbody>\n    <tr>\n      <th>count</th>\n      <td>164.000000</td>\n      <td>1.640000e+02</td>\n      <td>164.000000</td>\n      <td>164.000000</td>\n      <td>164.000000</td>\n    </tr>\n    <tr>\n      <th>mean</th>\n      <td>6999.975610</td>\n      <td>6.918620e+05</td>\n      <td>1907.414634</td>\n      <td>2568.060976</td>\n      <td>5.018293</td>\n    </tr>\n    <tr>\n      <th>std</th>\n      <td>32837.598097</td>\n      <td>2.043899e+06</td>\n      <td>13181.706649</td>\n      <td>16284.980741</td>\n      <td>64.265503</td>\n    </tr>\n    <tr>\n      <th>min</th>\n      <td>0.000000</td>\n      <td>0.000000e+00</td>\n      <td>0.000000</td>\n      <td>0.000000</td>\n      <td>0.000000</td>\n    </tr>\n    <tr>\n      <th>25%</th>\n      <td>0.000000</td>\n      <td>0.000000e+00</td>\n      <td>0.000000</td>\n      <td>0.000000</td>\n      <td>0.000000</td>\n    </tr>\n    <tr>\n      <th>50%</th>\n      <td>65.500000</td>\n      <td>1.431450e+04</td>\n      <td>0.000000</td>\n      <td>0.000000</td>\n      <td>0.000000</td>\n    </tr>\n    <tr>\n      <th>75%</th>\n      <td>964.000000</td>\n      <td>2.815492e+05</td>\n      <td>0.000000</td>\n      <td>0.000000</td>\n      <td>0.000000</td>\n    </tr>\n    <tr>\n      <th>max</th>\n      <td>305023.000000</td>\n      <td>1.670231e+07</td>\n      <td>156977.000000</td>\n      <td>148046.000000</td>\n      <td>823.000000</td>\n    </tr>\n  </tbody>\n</table>\n</div>"
     },
     "execution_count": 14,
     "metadata": {},
     "output_type": "execute_result"
    }
   ],
   "source": [
    "collected[0].describe()"
   ],
   "metadata": {
    "collapsed": false,
    "ExecuteTime": {
     "end_time": "2023-08-29T12:15:25.292272577Z",
     "start_time": "2023-08-29T12:15:25.249389020Z"
    }
   },
   "id": "be2929d511b6efd8"
  },
  {
   "cell_type": "code",
   "execution_count": 15,
   "outputs": [],
   "source": [
    "over_1_mil = []\n",
    "\n",
    "for coll in collected:\n",
    "    if coll['usage count'].max() > 1_000_000:\n",
    "        over_1_mil.append(coll)"
   ],
   "metadata": {
    "collapsed": false,
    "ExecuteTime": {
     "end_time": "2023-08-29T12:15:25.644609527Z",
     "start_time": "2023-08-29T12:15:25.349690935Z"
    }
   },
   "id": "68aea27fb7723c11"
  },
  {
   "cell_type": "code",
   "execution_count": 16,
   "outputs": [
    {
     "name": "stdout",
     "output_type": "stream",
     "text": [
      "len(collected)=5795 len(over_1_mil)=2113\n"
     ]
    }
   ],
   "source": [
    "print(f\"{len(collected)=} {len(over_1_mil)=}\")"
   ],
   "metadata": {
    "collapsed": false,
    "ExecuteTime": {
     "end_time": "2023-08-29T12:15:25.651903844Z",
     "start_time": "2023-08-29T12:15:25.645469789Z"
    }
   },
   "id": "4439d618f90fbbfa"
  },
  {
   "cell_type": "code",
   "execution_count": 17,
   "outputs": [
    {
     "data": {
      "text/plain": "                         method  usage count     total time     extra 1  \\\n0                  PyDict_Clear      4205669    24793128045           0   \n1               PyDict_Contains  11472628641  2730593362007   228695482   \n2                   PyDict_Copy     13662633     4758857536           0   \n3                PyDict_DelItem    144483576    69649565616           0   \n4          PyDict_DelItemString        28835       42261501           0   \n..                          ...          ...            ...         ...   \n159                  new_values    122307211     5949903179           0   \n160     shared_keys_usable_size    176907270     3073671210       49974   \n161            unicode_get_hash  29933118453   521522896847           0   \n162  unicodekeys_lookup_generic      9681638      617332378       67684   \n163  unicodekeys_lookup_unicode  16388928421  1915758702146  2770411189   \n\n         extra 2  extra 3  \n0              0        0  \n1    11243933159        0  \n2              0        0  \n3              0        0  \n4              0        0  \n..           ...      ...  \n159            0        0  \n160            0        0  \n161            0        0  \n162      9613954        0  \n163  13618517232        0  \n\n[164 rows x 6 columns]",
      "text/html": "<div>\n<style scoped>\n    .dataframe tbody tr th:only-of-type {\n        vertical-align: middle;\n    }\n\n    .dataframe tbody tr th {\n        vertical-align: top;\n    }\n\n    .dataframe thead th {\n        text-align: right;\n    }\n</style>\n<table border=\"1\" class=\"dataframe\">\n  <thead>\n    <tr style=\"text-align: right;\">\n      <th></th>\n      <th>method</th>\n      <th>usage count</th>\n      <th>total time</th>\n      <th>extra 1</th>\n      <th>extra 2</th>\n      <th>extra 3</th>\n    </tr>\n  </thead>\n  <tbody>\n    <tr>\n      <th>0</th>\n      <td>PyDict_Clear</td>\n      <td>4205669</td>\n      <td>24793128045</td>\n      <td>0</td>\n      <td>0</td>\n      <td>0</td>\n    </tr>\n    <tr>\n      <th>1</th>\n      <td>PyDict_Contains</td>\n      <td>11472628641</td>\n      <td>2730593362007</td>\n      <td>228695482</td>\n      <td>11243933159</td>\n      <td>0</td>\n    </tr>\n    <tr>\n      <th>2</th>\n      <td>PyDict_Copy</td>\n      <td>13662633</td>\n      <td>4758857536</td>\n      <td>0</td>\n      <td>0</td>\n      <td>0</td>\n    </tr>\n    <tr>\n      <th>3</th>\n      <td>PyDict_DelItem</td>\n      <td>144483576</td>\n      <td>69649565616</td>\n      <td>0</td>\n      <td>0</td>\n      <td>0</td>\n    </tr>\n    <tr>\n      <th>4</th>\n      <td>PyDict_DelItemString</td>\n      <td>28835</td>\n      <td>42261501</td>\n      <td>0</td>\n      <td>0</td>\n      <td>0</td>\n    </tr>\n    <tr>\n      <th>...</th>\n      <td>...</td>\n      <td>...</td>\n      <td>...</td>\n      <td>...</td>\n      <td>...</td>\n      <td>...</td>\n    </tr>\n    <tr>\n      <th>159</th>\n      <td>new_values</td>\n      <td>122307211</td>\n      <td>5949903179</td>\n      <td>0</td>\n      <td>0</td>\n      <td>0</td>\n    </tr>\n    <tr>\n      <th>160</th>\n      <td>shared_keys_usable_size</td>\n      <td>176907270</td>\n      <td>3073671210</td>\n      <td>49974</td>\n      <td>0</td>\n      <td>0</td>\n    </tr>\n    <tr>\n      <th>161</th>\n      <td>unicode_get_hash</td>\n      <td>29933118453</td>\n      <td>521522896847</td>\n      <td>0</td>\n      <td>0</td>\n      <td>0</td>\n    </tr>\n    <tr>\n      <th>162</th>\n      <td>unicodekeys_lookup_generic</td>\n      <td>9681638</td>\n      <td>617332378</td>\n      <td>67684</td>\n      <td>9613954</td>\n      <td>0</td>\n    </tr>\n    <tr>\n      <th>163</th>\n      <td>unicodekeys_lookup_unicode</td>\n      <td>16388928421</td>\n      <td>1915758702146</td>\n      <td>2770411189</td>\n      <td>13618517232</td>\n      <td>0</td>\n    </tr>\n  </tbody>\n</table>\n<p>164 rows × 6 columns</p>\n</div>"
     },
     "execution_count": 17,
     "metadata": {},
     "output_type": "execute_result"
    }
   ],
   "source": [
    "over_1_mil_df = pd.concat(over_1_mil).groupby(['method']).sum().reset_index('method')\n",
    "over_1_mil_df"
   ],
   "metadata": {
    "collapsed": false,
    "ExecuteTime": {
     "end_time": "2023-08-29T12:15:25.857138837Z",
     "start_time": "2023-08-29T12:15:25.648175680Z"
    }
   },
   "id": "55b0a6aeddc273c"
  },
  {
   "cell_type": "code",
   "execution_count": 18,
   "outputs": [
    {
     "data": {
      "text/plain": "'3 hours ago'"
     },
     "execution_count": 18,
     "metadata": {},
     "output_type": "execute_result"
    }
   ],
   "source": [
    "running_time = (over_1_mil_df[['total time']].sum() / 10**9)[['total time']].iloc[0]\n",
    "humanize.naturaltime(running_time)"
   ],
   "metadata": {
    "collapsed": false,
    "ExecuteTime": {
     "end_time": "2023-08-29T12:15:25.857730245Z",
     "start_time": "2023-08-29T12:15:25.851923551Z"
    }
   },
   "id": "f57eea7533f672a3"
  },
  {
   "cell_type": "code",
   "execution_count": 19,
   "outputs": [
    {
     "data": {
      "text/plain": "                         method  usage count     total time     extra 1  \\\n0                  PyDict_Clear      4205669    24793128045           0   \n1               PyDict_Contains  11472628641  2730593362007   228695482   \n2                   PyDict_Copy     13662633     4758857536           0   \n3                PyDict_DelItem    144483576    69649565616           0   \n4          PyDict_DelItemString        28835       42261501           0   \n..                          ...          ...            ...         ...   \n159                  new_values    122307211     5949903179           0   \n160     shared_keys_usable_size    176907270     3073671210       49974   \n161            unicode_get_hash  29933118453   521522896847           0   \n162  unicodekeys_lookup_generic      9681638      617332378       67684   \n163  unicodekeys_lookup_unicode  16388928421  1915758702146  2770411189   \n\n         extra 2  extra 3  avg running time  \n0              0        0       5895.168651  \n1    11243933159        0        238.009392  \n2              0        0        348.311891  \n3              0        0        482.058706  \n4              0        0       1465.632079  \n..           ...      ...               ...  \n159            0        0         48.647199  \n160            0        0         17.374477  \n161            0        0         17.422939  \n162      9613954        0         63.763216  \n163  13618517232        0        116.893469  \n\n[164 rows x 7 columns]",
      "text/html": "<div>\n<style scoped>\n    .dataframe tbody tr th:only-of-type {\n        vertical-align: middle;\n    }\n\n    .dataframe tbody tr th {\n        vertical-align: top;\n    }\n\n    .dataframe thead th {\n        text-align: right;\n    }\n</style>\n<table border=\"1\" class=\"dataframe\">\n  <thead>\n    <tr style=\"text-align: right;\">\n      <th></th>\n      <th>method</th>\n      <th>usage count</th>\n      <th>total time</th>\n      <th>extra 1</th>\n      <th>extra 2</th>\n      <th>extra 3</th>\n      <th>avg running time</th>\n    </tr>\n  </thead>\n  <tbody>\n    <tr>\n      <th>0</th>\n      <td>PyDict_Clear</td>\n      <td>4205669</td>\n      <td>24793128045</td>\n      <td>0</td>\n      <td>0</td>\n      <td>0</td>\n      <td>5895.168651</td>\n    </tr>\n    <tr>\n      <th>1</th>\n      <td>PyDict_Contains</td>\n      <td>11472628641</td>\n      <td>2730593362007</td>\n      <td>228695482</td>\n      <td>11243933159</td>\n      <td>0</td>\n      <td>238.009392</td>\n    </tr>\n    <tr>\n      <th>2</th>\n      <td>PyDict_Copy</td>\n      <td>13662633</td>\n      <td>4758857536</td>\n      <td>0</td>\n      <td>0</td>\n      <td>0</td>\n      <td>348.311891</td>\n    </tr>\n    <tr>\n      <th>3</th>\n      <td>PyDict_DelItem</td>\n      <td>144483576</td>\n      <td>69649565616</td>\n      <td>0</td>\n      <td>0</td>\n      <td>0</td>\n      <td>482.058706</td>\n    </tr>\n    <tr>\n      <th>4</th>\n      <td>PyDict_DelItemString</td>\n      <td>28835</td>\n      <td>42261501</td>\n      <td>0</td>\n      <td>0</td>\n      <td>0</td>\n      <td>1465.632079</td>\n    </tr>\n    <tr>\n      <th>...</th>\n      <td>...</td>\n      <td>...</td>\n      <td>...</td>\n      <td>...</td>\n      <td>...</td>\n      <td>...</td>\n      <td>...</td>\n    </tr>\n    <tr>\n      <th>159</th>\n      <td>new_values</td>\n      <td>122307211</td>\n      <td>5949903179</td>\n      <td>0</td>\n      <td>0</td>\n      <td>0</td>\n      <td>48.647199</td>\n    </tr>\n    <tr>\n      <th>160</th>\n      <td>shared_keys_usable_size</td>\n      <td>176907270</td>\n      <td>3073671210</td>\n      <td>49974</td>\n      <td>0</td>\n      <td>0</td>\n      <td>17.374477</td>\n    </tr>\n    <tr>\n      <th>161</th>\n      <td>unicode_get_hash</td>\n      <td>29933118453</td>\n      <td>521522896847</td>\n      <td>0</td>\n      <td>0</td>\n      <td>0</td>\n      <td>17.422939</td>\n    </tr>\n    <tr>\n      <th>162</th>\n      <td>unicodekeys_lookup_generic</td>\n      <td>9681638</td>\n      <td>617332378</td>\n      <td>67684</td>\n      <td>9613954</td>\n      <td>0</td>\n      <td>63.763216</td>\n    </tr>\n    <tr>\n      <th>163</th>\n      <td>unicodekeys_lookup_unicode</td>\n      <td>16388928421</td>\n      <td>1915758702146</td>\n      <td>2770411189</td>\n      <td>13618517232</td>\n      <td>0</td>\n      <td>116.893469</td>\n    </tr>\n  </tbody>\n</table>\n<p>164 rows × 7 columns</p>\n</div>"
     },
     "execution_count": 19,
     "metadata": {},
     "output_type": "execute_result"
    }
   ],
   "source": [
    "over_1_mil_df['avg running time'] = over_1_mil_df['total time'] / over_1_mil_df['usage count']\n",
    "over_1_mil_df"
   ],
   "metadata": {
    "collapsed": false,
    "ExecuteTime": {
     "end_time": "2023-08-29T12:15:25.885639091Z",
     "start_time": "2023-08-29T12:15:25.857383424Z"
    }
   },
   "id": "403264182d7337ec"
  },
  {
   "cell_type": "code",
   "execution_count": 20,
   "outputs": [
    {
     "data": {
      "text/plain": "19                PyDict_Values\n30     _PyDict_DebugMallocStats\n31            _PyDict_DelItemId\n48          _PyDict_NewPresized\n66             all_contained_in\n74       dict___reversed___impl\n91                      dict_or\n104                 dict_values\n106          dictitems_contains\n109          dictitems_reversed\n110               dictitems_xor\n117             dictiter_reduce\n126           dictkeys_reversed\n129        dictreviter_iternext\n132         dictvalues_reversed\n135            dictview_mapping\n136               dictview_repr\n137        dictview_richcompare\n139        dictviews_isdisjoint\n143               dictviews_xor\nName: method, dtype: object"
     },
     "execution_count": 20,
     "metadata": {},
     "output_type": "execute_result"
    }
   ],
   "source": [
    "unused = over_1_mil_df.loc[over_1_mil_df['usage count'] == 0, \"method\"]\n",
    "unused"
   ],
   "metadata": {
    "collapsed": false,
    "ExecuteTime": {
     "end_time": "2023-08-29T12:15:25.896536100Z",
     "start_time": "2023-08-29T12:15:25.874700739Z"
    }
   },
   "id": "515272a0695805f9"
  },
  {
   "cell_type": "code",
   "execution_count": 21,
   "outputs": [],
   "source": [
    "over_1_mil_df.to_csv('dict-metrics_combined.csv', index=False)"
   ],
   "metadata": {
    "collapsed": false,
    "ExecuteTime": {
     "end_time": "2023-08-29T12:15:26.003157399Z",
     "start_time": "2023-08-29T12:15:25.877644417Z"
    }
   },
   "id": "86549381da0ed59a"
  },
  {
   "cell_type": "code",
   "execution_count": 22,
   "outputs": [],
   "source": [
    "lookups = [  # aggregate\n",
    "    \"_Py_dict_lookup\",\n",
    "    \"\"\n",
    "]"
   ],
   "metadata": {
    "collapsed": false,
    "ExecuteTime": {
     "end_time": "2023-08-29T12:15:26.003455592Z",
     "start_time": "2023-08-29T12:15:25.918988713Z"
    }
   },
   "id": "a1a0dce0e3f40b3d"
  }
 ],
 "metadata": {
  "kernelspec": {
   "display_name": "Python 3",
   "language": "python",
   "name": "python3"
  },
  "language_info": {
   "codemirror_mode": {
    "name": "ipython",
    "version": 2
   },
   "file_extension": ".py",
   "mimetype": "text/x-python",
   "name": "python",
   "nbconvert_exporter": "python",
   "pygments_lexer": "ipython2",
   "version": "2.7.6"
  }
 },
 "nbformat": 4,
 "nbformat_minor": 5
}
